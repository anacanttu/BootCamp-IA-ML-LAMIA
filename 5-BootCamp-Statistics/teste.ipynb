{
  "metadata": {
    "kernelspec": {
      "name": "python",
      "display_name": "Python (Pyodide)",
      "language": "python"
    },
    "language_info": {
      "codemirror_mode": {
        "name": "python",
        "version": 3
      },
      "file_extension": ".py",
      "mimetype": "text/x-python",
      "name": "python",
      "nbconvert_exporter": "python",
      "pygments_lexer": "ipython3",
      "version": "3.8"
    }
  },
  "nbformat_minor": 4,
  "nbformat": 4,
  "cells": [
    {
      "cell_type": "code",
      "source": "import shutil\nimport os",
      "metadata": {
        "trusted": true
      },
      "outputs": [],
      "execution_count": null
    },
    {
      "cell_type": "code",
      "source": "\n\npasta_para_zipar = 'nome_da_pasta'  # Nome da pasta que você deseja baixar\nnome_do_arquivo_zip = 'minha_pasta.zip'\n\n# Compacta a pasta e cria o arquivo ZIP\nshutil.make_archive(nome_do_arquivo_zip.replace('.zip', ''), 'zip', pasta_para_zipar)\n\n# Verifica se o arquivo ZIP foi criado e imprime uma mensagem\nif os.path.exists(nome_do_arquivo_zip):\n    print(f'{nome_do_arquivo_zip} criado com sucesso!')\nelse:\n    print('O arquivo ZIP não foi criado.')",
      "metadata": {
        "trusted": true
      },
      "outputs": [],
      "execution_count": null
    },
    {
      "cell_type": "code",
      "source": "import pandas as pd",
      "metadata": {
        "trusted": true
      },
      "outputs": [],
      "execution_count": null
    },
    {
      "cell_type": "code",
      "source": "",
      "metadata": {
        "trusted": true
      },
      "outputs": [],
      "execution_count": null
    },
    {
      "cell_type": "code",
      "source": "",
      "metadata": {
        "trusted": true
      },
      "outputs": [],
      "execution_count": null
    }
  ]
}
